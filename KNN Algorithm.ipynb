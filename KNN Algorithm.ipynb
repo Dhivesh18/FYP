{
 "cells": [
  {
   "cell_type": "code",
   "execution_count": 1,
   "metadata": {},
   "outputs": [],
   "source": [
    "\n",
    "from sklearn.preprocessing import LabelEncoder\n",
    "import matplotlib.pyplot as plt\n",
    "import seaborn as sn\n",
    "import pandas as pd\n",
    "from sklearn.model_selection import train_test_split\n",
    "from sklearn.preprocessing import RobustScaler\n",
    "from sklearn.neighbors import KNeighborsClassifier\n",
    "from sklearn.metrics import confusion_matrix\n",
    "import numpy as np\n",
    "df = pd.read_csv('FINAL_UPGRADE.csv')"
   ]
  },
  {
   "cell_type": "code",
   "execution_count": 2,
   "metadata": {},
   "outputs": [
    {
     "data": {
      "text/plain": [
       "Index(['t', 'L', 'lineno', 'T12VPhaseA', 'T12VPhaseB', 'T12VPhaseC',\n",
       "       'T12IPhaseA', 'T12IPhaseB', 'T12IPhaseC', 'T13VPhaseA', 'T13VPhaseB',\n",
       "       'T13VPhaseC', 'T13IPhaseA', 'T13IPhaseB', 'T13IPhaseC', 'T23VPhaseA',\n",
       "       'T23VPhaseB', 'T23VPhaseC', 'T23IPhaseA', 'T23IPhaseB', 'T23IPhaseC',\n",
       "       'T24VPhaseA', 'T24VPhaseB', 'T24VPhaseC', 'T24IPhaseA', 'T24IPhaseB',\n",
       "       'T24IPhaseC', 'T25VPhaseA', 'T25VPhaseB', 'T25VPhaseC', 'T25IPhaseA',\n",
       "       'T25IPhaseB', 'T25IPhaseC', 'T34VPhaseA', 'T34VPhaseB', 'T34VPhaseC',\n",
       "       'T34IPhaseA', 'T34IPhaseB', 'T34IPhaseC', 'T45VPhaseA', 'T45VPhaseB',\n",
       "       'T45VPhaseC', 'T45IPhaseA', 'T45IPhaseB', 'T45IPhaseC',\n",
       "       'LineResistance', 'LineInductance', 'typeoffault', 'typeoffault_n'],\n",
       "      dtype='object')"
      ]
     },
     "execution_count": 2,
     "metadata": {},
     "output_type": "execute_result"
    }
   ],
   "source": [
    "df.columns"
   ]
  },
  {
   "cell_type": "code",
   "execution_count": 3,
   "metadata": {},
   "outputs": [],
   "source": [
    "\n",
    "X = df.drop(['t', 'lineno', 'typeoffault', 'typeoffault_n', 'T12VPhaseA', 'T12VPhaseB', 'T12VPhaseC',\n",
    "       'T13VPhaseA', 'T13VPhaseB', 'T13VPhaseC', 'T23VPhaseA', 'T23VPhaseB', 'T23VPhaseC',\n",
    "       'T24VPhaseA', 'T24VPhaseB', 'T24VPhaseC', 'T25VPhaseA', 'T25VPhaseB', 'T25VPhaseC', 'T34VPhaseA', 'T34VPhaseB', 'T34VPhaseC',\n",
    "       'T45VPhaseA', 'T45VPhaseB', 'T45VPhaseC'], axis='columns')\n",
    "y = df['typeoffault_n']"
   ]
  },
  {
   "cell_type": "code",
   "execution_count": 4,
   "metadata": {},
   "outputs": [],
   "source": [
    "df.loc[(df.typeoffault_n == 5),'typeoffault_n']=500\n",
    "df.typeoffault_n.unique()\n",
    "df.loc[(df.typeoffault_n == 0),'typeoffault_n']=5\n",
    "df.loc[(df.typeoffault_n == 500),'typeoffault_n']=0"
   ]
  },
  {
   "cell_type": "code",
   "execution_count": 5,
   "metadata": {},
   "outputs": [],
   "source": [
    "df.loc[(df.lineno==1),'lineno']=13\n",
    "df.loc[(df.lineno==2),'lineno']=17\n",
    "df.loc[(df.lineno==3),'lineno']=19\n",
    "df.loc[(df.lineno==4),'lineno']=23\n",
    "df.loc[(df.lineno==5),'lineno']=29\n",
    "df.loc[(df.lineno==6),'lineno']=31\n",
    "df.loc[(df.lineno==7),'lineno']=37"
   ]
  },
  {
   "cell_type": "code",
   "execution_count": 6,
   "metadata": {},
   "outputs": [],
   "source": [
    "df['linenno_typeoffault_n']=df['typeoffault_n']*df['lineno']"
   ]
  },
  {
   "cell_type": "code",
   "execution_count": 7,
   "metadata": {},
   "outputs": [
    {
     "name": "stdout",
     "output_type": "stream",
     "text": [
      "36\n"
     ]
    }
   ],
   "source": [
    "print(len(df['linenno_typeoffault_n'].unique())) # should give 36"
   ]
  },
  {
   "cell_type": "code",
   "execution_count": 8,
   "metadata": {},
   "outputs": [],
   "source": [
    "targets = df['linenno_typeoffault_n']"
   ]
  },
  {
   "cell_type": "code",
   "execution_count": 9,
   "metadata": {},
   "outputs": [],
   "source": [
    "le = LabelEncoder()\n",
    "targets = le.fit_transform(targets)"
   ]
  },
  {
   "cell_type": "code",
   "execution_count": 10,
   "metadata": {},
   "outputs": [],
   "source": [
    "targets = pd.DataFrame(data=targets)"
   ]
  },
  {
   "cell_type": "code",
   "execution_count": 11,
   "metadata": {},
   "outputs": [],
   "source": [
    "X = RobustScaler().fit_transform(X)"
   ]
  },
  {
   "cell_type": "code",
   "execution_count": 12,
   "metadata": {},
   "outputs": [],
   "source": [
    "X_train, X_test, y_train, y_test = train_test_split(X, targets, test_size=0.2)"
   ]
  },
  {
   "cell_type": "code",
   "execution_count": 13,
   "metadata": {},
   "outputs": [
    {
     "name": "stdout",
     "output_type": "stream",
     "text": [
      "1621620 405405 1621620 405405\n"
     ]
    }
   ],
   "source": [
    "print(len(X_train), len(X_test), len(y_train), len(y_test))"
   ]
  },
  {
   "cell_type": "code",
   "execution_count": 14,
   "metadata": {},
   "outputs": [],
   "source": [
    "knn = KNeighborsClassifier(n_neighbors=13)"
   ]
  },
  {
   "cell_type": "code",
   "execution_count": 15,
   "metadata": {},
   "outputs": [],
   "source": [
    "y_train = np.reshape(y_train,(1621620,))\n",
    "y_test = np.reshape(y_test,(405405,))"
   ]
  },
  {
   "cell_type": "code",
   "execution_count": 16,
   "metadata": {},
   "outputs": [
    {
     "name": "stderr",
     "output_type": "stream",
     "text": [
      "C:\\Users\\lenovo\\AppData\\Local\\Programs\\Python\\Python39\\lib\\site-packages\\sklearn\\neighbors\\_classification.py:198: DataConversionWarning: A column-vector y was passed when a 1d array was expected. Please change the shape of y to (n_samples,), for example using ravel().\n",
      "  return self._fit(X, y)\n"
     ]
    },
    {
     "data": {
      "text/plain": [
       "KNeighborsClassifier(n_neighbors=13)"
      ]
     },
     "execution_count": 16,
     "metadata": {},
     "output_type": "execute_result"
    }
   ],
   "source": [
    "knn.fit(X_train, y_train)"
   ]
  },
  {
   "cell_type": "code",
   "execution_count": 17,
   "metadata": {},
   "outputs": [
    {
     "data": {
      "text/plain": [
       "0.96"
      ]
     },
     "execution_count": 17,
     "metadata": {},
     "output_type": "execute_result"
    }
   ],
   "source": [
    "knn.score(X_test[:100], y_test[:100])"
   ]
  },
  {
   "cell_type": "code",
   "execution_count": 18,
   "metadata": {},
   "outputs": [],
   "source": [
    "arr1 = [0, 65, 85, 95, 115, 145, 155, 185, 17, 13, 19, 23, 29, 31, 37, 26, 34, 38, 46, 58, 62, 74, 39, 51, 57, 69, 87, 93, 111, 52, 68, 76, 92, 116, 124, 148]\n",
    "arr2 = [0, 18, 23, 27, 29, 32, 34, 35,      2,  1,  3,  4,  6,  7,  9,  5,  8, 10, 12, 16, 17, 21, 11, 13, 15, 20, 24, 26, 28, 14, 19, 22, 25, 30, 31, 33]"
   ]
  },
  {
   "cell_type": "code",
   "execution_count": 19,
   "metadata": {},
   "outputs": [],
   "source": [
    "output = {}"
   ]
  },
  {
   "cell_type": "code",
   "execution_count": 20,
   "metadata": {},
   "outputs": [],
   "source": [
    "output = {\n",
    "    \"0\": \"NO Fault\",\n",
    "    \"18\":\"Line 1 LG Fault\",\n",
    "    \"23\":\"Line 2 LG Fault\",\n",
    "    \"27\":\"Line 3 LG Fault\",\n",
    "    \"29\":\"Line 4 LG Fault\",\n",
    "    \"32\":\"Line 5 LG Fault\",\n",
    "    \"34\":\"Line 6 LG Fault\",\n",
    "    \"35\":\"Line 7 LG Fault\",\n",
    "    \"1\":\"Line 1 LL Fault\",\n",
    "    \"2\":\"Line 2 LL Fault\",\n",
    "    \"3\":\"Line 3 LL Fault\",\n",
    "    \"4\":\"Line 4 LL Fault\",\n",
    "    \"6\":\"Line 5 LL Fault\",\n",
    "    \"7\":\"Line 6 LL Fault\",\n",
    "    \"9\":\"Line 7 LL Fault\",\n",
    "    \"5\":\"Line 1 LLG Fault\",\n",
    "    \"8\":\"Line 2 LLG Fault\",\n",
    "    \"10\":\"Line 3 LLG Fault\",\n",
    "    \"12\":\"Line 4 LLG Fault\",\n",
    "    \"16\":\"Line 5 LLG Fault\",\n",
    "    \"17\":\"Line 6 LLG Fault\",\n",
    "    \"21\":\"Line 7 LLG Fault\",\n",
    "    \"11\":\"Line 1 LLL Fault\",\n",
    "    \"13\":\"Line 2 LLL Fault\",\n",
    "    \"15\":\"Line 3 LLL Fault\",\n",
    "    \"20\":\"Line 4 LLL Fault\",\n",
    "    \"24\":\"Line 5 LLL Fault\",\n",
    "    \"26\":\"Line 6 LLL Fault\",\n",
    "    \"28\":\"Line 7 LLL Fault\",\n",
    "    \"14\":\"Line 1 LLLG Fault\",\n",
    "    \"19\":\"Line 2 LLLG Fault\",\n",
    "    \"22\":\"Line 3 LLLG Fault\",\n",
    "    \"25\":\"Line 4 LLLG Fault\",\n",
    "    \"30\":\"Line 5 LLLG Fault\",\n",
    "    \"31\":\"Line 6 LLLG Fault\",\n",
    "    \"33\":\"Line 7 LLLG Fault\"\n",
    "}"
   ]
  },
  {
   "cell_type": "code",
   "execution_count": 21,
   "metadata": {},
   "outputs": [],
   "source": [
    "y_pred = knn.predict(X_test[:100])"
   ]
  },
  {
   "cell_type": "code",
   "execution_count": 24,
   "metadata": {},
   "outputs": [],
   "source": [
    "r = pd.DataFrame(y_pred)"
   ]
  },
  {
   "cell_type": "code",
   "execution_count": 28,
   "metadata": {},
   "outputs": [
    {
     "data": {
      "text/plain": [
       "array([ 0, 13, 16, 35, 18, 29,  2, 33, 32, 15, 30, 31,  4, 17,  6, 12,  3,\n",
       "       11,  8, 34, 10,  9, 20, 23,  7,  5], dtype=int64)"
      ]
     },
     "execution_count": 28,
     "metadata": {},
     "output_type": "execute_result"
    }
   ],
   "source": [
    "r[0].unique()"
   ]
  },
  {
   "cell_type": "code",
   "execution_count": 31,
   "metadata": {},
   "outputs": [
    {
     "name": "stdout",
     "output_type": "stream",
     "text": [
      "NO Fault\n",
      "NO Fault\n",
      "NO Fault\n",
      "Line 2 LLL Fault\n",
      "NO Fault\n"
     ]
    }
   ],
   "source": [
    "for i in r[0].head():\n",
    "    temp = str(i)\n",
    "    print(output[temp])"
   ]
  },
  {
   "cell_type": "code",
   "execution_count": 36,
   "metadata": {},
   "outputs": [
    {
     "data": {
      "text/plain": [
       "Text(114.0, 0.5, 'Truth')"
      ]
     },
     "execution_count": 36,
     "metadata": {},
     "output_type": "execute_result"
    },
    {
     "data": {
      "image/png": "[encoded data removed]",
      "text/plain": [
       "<Figure size 1080x1080 with 2 Axes>"
      ]
     },
     "metadata": {
      "needs_background": "light"
     },
     "output_type": "display_data"
    }
   ],
   "source": [
    "cm = confusion_matrix(y_test[:100], y_pred[:100])\n",
    "%matplotlib inline\n",
    "import matplotlib.pyplot as plt\n",
    "import seaborn as sn\n",
    "plt.figure(figsize=(15,15))\n",
    "sn.heatmap(cm, annot=True)\n",
    "plt.xlabel('Predicted')\n",
    "plt.ylabel('Truth')"
   ]
  },
  {
   "cell_type": "code",
   "execution_count": null,
   "metadata": {},
   "outputs": [],
   "source": []
  }
 ],
 "metadata": {
  "interpreter": {
   "hash": "a3949659082f76c3dce9af69e66ef5cf512c1e4dc52678c6ac146f322361f8d5"
  },
  "kernelspec": {
   "display_name": "Python 3.9.7 64-bit",
   "name": "python3"
  },
  "language_info": {
   "codemirror_mode": {
    "name": "ipython",
    "version": 3
   },
   "file_extension": ".py",
   "mimetype": "text/x-python",
   "name": "python",
   "nbconvert_exporter": "python",
   "pygments_lexer": "ipython3",
   "version": "3.9.7"
  },
  "orig_nbformat": 4
 },
 "nbformat": 4,
 "nbformat_minor": 2
}
